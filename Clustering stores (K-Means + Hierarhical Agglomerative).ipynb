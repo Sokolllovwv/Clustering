{
 "cells": [
  {
   "cell_type": "code",
   "execution_count": 1,
   "id": "3a2b7479",
   "metadata": {},
   "outputs": [],
   "source": [
    "import numpy as np\n",
    "import pandas as pd\n",
    "import matplotlib.pyplot as plt\n",
    "import seaborn as sns\n",
    "from sklearn.cluster import KMeans\n",
    "from sklearn import preprocessing\n",
    "sns.set()"
   ]
  },
  {
   "cell_type": "code",
   "execution_count": 2,
   "id": "c5cd6c5b",
   "metadata": {},
   "outputs": [],
   "source": [
    "input_dir = 'C:/Users/vadim.sokolov/Desktop/В'\n",
    "df = pd.read_excel(f'{input_dir}/test3/Задача по кластеризации1.xlsx', sheet_name='Data')"
   ]
  },
  {
   "cell_type": "code",
   "execution_count": 3,
   "id": "f0724788",
   "metadata": {},
   "outputs": [
    {
     "data": {
      "text/html": [
       "<div>\n",
       "<style scoped>\n",
       "    .dataframe tbody tr th:only-of-type {\n",
       "        vertical-align: middle;\n",
       "    }\n",
       "\n",
       "    .dataframe tbody tr th {\n",
       "        vertical-align: top;\n",
       "    }\n",
       "\n",
       "    .dataframe thead th {\n",
       "        text-align: right;\n",
       "    }\n",
       "</style>\n",
       "<table border=\"1\" class=\"dataframe\">\n",
       "  <thead>\n",
       "    <tr style=\"text-align: right;\">\n",
       "      <th></th>\n",
       "      <th>TradePointCode</th>\n",
       "      <th>STORE_LOCATION_LVL_NM1</th>\n",
       "      <th>STORE_LOCATION_NM</th>\n",
       "      <th>BrandName</th>\n",
       "      <th>Локация</th>\n",
       "      <th>Выкладка</th>\n",
       "      <th>Revenue</th>\n",
       "      <th>ChequeCount</th>\n",
       "      <th>TradeSquare</th>\n",
       "      <th>mean_ch</th>\n",
       "      <th>...</th>\n",
       "      <th>Простуда и грипп_общ</th>\n",
       "      <th>Борьба с вредными привычками_общ</th>\n",
       "      <th>Витамины и обмен веществ_общ</th>\n",
       "      <th>Лечебная и селективная косметика_общ</th>\n",
       "      <th>Масс-маркет_общ</th>\n",
       "      <th>Товары для матери и ребенка_общ</th>\n",
       "      <th>Уход за больными_общ</th>\n",
       "      <th>Медицинская техника_общ</th>\n",
       "      <th>Мед. изделия_общ</th>\n",
       "      <th>Продукты питания_общ</th>\n",
       "    </tr>\n",
       "  </thead>\n",
       "  <tbody>\n",
       "    <tr>\n",
       "      <th>0</th>\n",
       "      <td>А00927</td>\n",
       "      <td>БЕ Центр</td>\n",
       "      <td>А00927 Орел Наугорское шоссе 88</td>\n",
       "      <td>Аптека.ру</td>\n",
       "      <td>Стрит</td>\n",
       "      <td>ОФТ</td>\n",
       "      <td>4.187031e+07</td>\n",
       "      <td>135717</td>\n",
       "      <td>98.00</td>\n",
       "      <td>308.511909</td>\n",
       "      <td>...</td>\n",
       "      <td>0.001059</td>\n",
       "      <td>0.000906</td>\n",
       "      <td>0.000824</td>\n",
       "      <td>0.000180</td>\n",
       "      <td>0.000783</td>\n",
       "      <td>0.001213</td>\n",
       "      <td>0.001116</td>\n",
       "      <td>0.001018</td>\n",
       "      <td>0.000959</td>\n",
       "      <td>0.001113</td>\n",
       "    </tr>\n",
       "    <tr>\n",
       "      <th>1</th>\n",
       "      <td>А02072</td>\n",
       "      <td>БЕ Сибирь</td>\n",
       "      <td>А02072 Новосибирск Дзержинского 30 Аптека</td>\n",
       "      <td>Аптека.ру</td>\n",
       "      <td>Стрит</td>\n",
       "      <td>ЗФТ</td>\n",
       "      <td>4.892518e+07</td>\n",
       "      <td>180023</td>\n",
       "      <td>53.00</td>\n",
       "      <td>271.771820</td>\n",
       "      <td>...</td>\n",
       "      <td>0.001378</td>\n",
       "      <td>0.001562</td>\n",
       "      <td>0.000789</td>\n",
       "      <td>0.000012</td>\n",
       "      <td>0.001122</td>\n",
       "      <td>0.001403</td>\n",
       "      <td>0.001193</td>\n",
       "      <td>0.001079</td>\n",
       "      <td>0.001492</td>\n",
       "      <td>0.001426</td>\n",
       "    </tr>\n",
       "    <tr>\n",
       "      <th>2</th>\n",
       "      <td>А02630</td>\n",
       "      <td>БЕ Москва</td>\n",
       "      <td>А02630 Москва ул. Островитянова 18</td>\n",
       "      <td>МосАптека</td>\n",
       "      <td>Стрит</td>\n",
       "      <td>ЗФТ</td>\n",
       "      <td>4.275123e+07</td>\n",
       "      <td>107701</td>\n",
       "      <td>45.54</td>\n",
       "      <td>396.943634</td>\n",
       "      <td>...</td>\n",
       "      <td>0.000977</td>\n",
       "      <td>0.000609</td>\n",
       "      <td>0.000699</td>\n",
       "      <td>0.000293</td>\n",
       "      <td>0.001142</td>\n",
       "      <td>0.000836</td>\n",
       "      <td>0.001603</td>\n",
       "      <td>0.000902</td>\n",
       "      <td>0.001011</td>\n",
       "      <td>0.000895</td>\n",
       "    </tr>\n",
       "    <tr>\n",
       "      <th>3</th>\n",
       "      <td>А02632</td>\n",
       "      <td>БЕ Москва</td>\n",
       "      <td>А02632 Москва ул. Нагатинская 11 корп 1</td>\n",
       "      <td>МосАптека</td>\n",
       "      <td>Стрит</td>\n",
       "      <td>ЗФТ</td>\n",
       "      <td>4.634328e+07</td>\n",
       "      <td>104647</td>\n",
       "      <td>60.35</td>\n",
       "      <td>442.853368</td>\n",
       "      <td>...</td>\n",
       "      <td>0.001105</td>\n",
       "      <td>0.001105</td>\n",
       "      <td>0.000995</td>\n",
       "      <td>0.000776</td>\n",
       "      <td>0.001132</td>\n",
       "      <td>0.001272</td>\n",
       "      <td>0.001024</td>\n",
       "      <td>0.000871</td>\n",
       "      <td>0.000925</td>\n",
       "      <td>0.000573</td>\n",
       "    </tr>\n",
       "    <tr>\n",
       "      <th>4</th>\n",
       "      <td>А00899</td>\n",
       "      <td>БЕ Центр</td>\n",
       "      <td>А00899 Орел Октябрьская 16/18</td>\n",
       "      <td>Озерки</td>\n",
       "      <td>Стрит</td>\n",
       "      <td>ЗФТ</td>\n",
       "      <td>6.355079e+07</td>\n",
       "      <td>178549</td>\n",
       "      <td>63.40</td>\n",
       "      <td>355.929102</td>\n",
       "      <td>...</td>\n",
       "      <td>0.001352</td>\n",
       "      <td>0.001004</td>\n",
       "      <td>0.001307</td>\n",
       "      <td>0.002186</td>\n",
       "      <td>0.001295</td>\n",
       "      <td>0.002059</td>\n",
       "      <td>0.000966</td>\n",
       "      <td>0.001241</td>\n",
       "      <td>0.001498</td>\n",
       "      <td>0.000962</td>\n",
       "    </tr>\n",
       "  </tbody>\n",
       "</table>\n",
       "<p>5 rows × 63 columns</p>\n",
       "</div>"
      ],
      "text/plain": [
       "  TradePointCode STORE_LOCATION_LVL_NM1  \\\n",
       "0         А00927               БЕ Центр   \n",
       "1         А02072              БЕ Сибирь   \n",
       "2         А02630              БЕ Москва   \n",
       "3         А02632              БЕ Москва   \n",
       "4         А00899               БЕ Центр   \n",
       "\n",
       "                           STORE_LOCATION_NM  BrandName Локация Выкладка  \\\n",
       "0            А00927 Орел Наугорское шоссе 88  Аптека.ру   Стрит      ОФТ   \n",
       "1  А02072 Новосибирск Дзержинского 30 Аптека  Аптека.ру   Стрит      ЗФТ   \n",
       "2         А02630 Москва ул. Островитянова 18  МосАптека   Стрит      ЗФТ   \n",
       "3    А02632 Москва ул. Нагатинская 11 корп 1  МосАптека   Стрит      ЗФТ   \n",
       "4              А00899 Орел Октябрьская 16/18     Озерки   Стрит      ЗФТ   \n",
       "\n",
       "        Revenue  ChequeCount  TradeSquare     mean_ch  ...  \\\n",
       "0  4.187031e+07       135717        98.00  308.511909  ...   \n",
       "1  4.892518e+07       180023        53.00  271.771820  ...   \n",
       "2  4.275123e+07       107701        45.54  396.943634  ...   \n",
       "3  4.634328e+07       104647        60.35  442.853368  ...   \n",
       "4  6.355079e+07       178549        63.40  355.929102  ...   \n",
       "\n",
       "   Простуда и грипп_общ  Борьба с вредными привычками_общ  \\\n",
       "0              0.001059                          0.000906   \n",
       "1              0.001378                          0.001562   \n",
       "2              0.000977                          0.000609   \n",
       "3              0.001105                          0.001105   \n",
       "4              0.001352                          0.001004   \n",
       "\n",
       "   Витамины и обмен веществ_общ  Лечебная и селективная косметика_общ  \\\n",
       "0                      0.000824                              0.000180   \n",
       "1                      0.000789                              0.000012   \n",
       "2                      0.000699                              0.000293   \n",
       "3                      0.000995                              0.000776   \n",
       "4                      0.001307                              0.002186   \n",
       "\n",
       "   Масс-маркет_общ  Товары для матери и ребенка_общ  Уход за больными_общ  \\\n",
       "0         0.000783                         0.001213              0.001116   \n",
       "1         0.001122                         0.001403              0.001193   \n",
       "2         0.001142                         0.000836              0.001603   \n",
       "3         0.001132                         0.001272              0.001024   \n",
       "4         0.001295                         0.002059              0.000966   \n",
       "\n",
       "   Медицинская техника_общ  Мед. изделия_общ  Продукты питания_общ  \n",
       "0                 0.001018          0.000959              0.001113  \n",
       "1                 0.001079          0.001492              0.001426  \n",
       "2                 0.000902          0.001011              0.000895  \n",
       "3                 0.000871          0.000925              0.000573  \n",
       "4                 0.001241          0.001498              0.000962  \n",
       "\n",
       "[5 rows x 63 columns]"
      ]
     },
     "execution_count": 3,
     "metadata": {},
     "output_type": "execute_result"
    }
   ],
   "source": [
    "df.head()"
   ]
  },
  {
   "cell_type": "markdown",
   "id": "d724c03d",
   "metadata": {},
   "source": [
    "### Кластеризация будет проведена в 2 этапа:\n",
    "1) Разделение по территориальному признаку (Локация), и на основании общего количества чеков (Revenue/ChequeCount).   \n",
    "2) Разделение получившихся кластеров на магазины с высоким/средним/низким ценовым сегментом (столбцы mean_ch/Revenue)."
   ]
  },
  {
   "cell_type": "code",
   "execution_count": 4,
   "id": "413abf02",
   "metadata": {},
   "outputs": [
    {
     "name": "stdout",
     "output_type": "stream",
     "text": [
      "<class 'pandas.core.frame.DataFrame'>\n",
      "RangeIndex: 943 entries, 0 to 942\n",
      "Data columns (total 63 columns):\n",
      " #   Column                                Non-Null Count  Dtype  \n",
      "---  ------                                --------------  -----  \n",
      " 0   TradePointCode                        943 non-null    object \n",
      " 1   STORE_LOCATION_LVL_NM1                943 non-null    object \n",
      " 2   STORE_LOCATION_NM                     943 non-null    object \n",
      " 3   BrandName                             943 non-null    object \n",
      " 4   Локация                               943 non-null    object \n",
      " 5   Выкладка                              943 non-null    object \n",
      " 6   Revenue                               943 non-null    float64\n",
      " 7   ChequeCount                           943 non-null    int64  \n",
      " 8   TradeSquare                           943 non-null    float64\n",
      " 9   mean_ch                               943 non-null    float64\n",
      " 10  high                                  943 non-null    float64\n",
      " 11  medium                                943 non-null    float64\n",
      " 12  low                                   943 non-null    float64\n",
      " 13  Сердце и кровь                        943 non-null    float64\n",
      " 14  Эндокринология                        943 non-null    float64\n",
      " 15  Онкология и иммунология               943 non-null    float64\n",
      " 16  Дыхательная система                   943 non-null    float64\n",
      " 17  Лечений инфекций                      943 non-null    float64\n",
      " 18  Костно-мышечная система               943 non-null    float64\n",
      " 19  От варикоза                           943 non-null    float64\n",
      " 20  Мочеполовая система                   943 non-null    float64\n",
      " 21  Гинекология                           943 non-null    float64\n",
      " 22  Нервная система                       943 non-null    float64\n",
      " 23  Пищеварительный тракт                 943 non-null    float64\n",
      " 24  От боли и воспаления                  943 non-null    float64\n",
      " 25  Дерматология                          943 non-null    float64\n",
      " 26  Зрение и слух                         943 non-null    float64\n",
      " 27  От аллергии                           943 non-null    float64\n",
      " 28  Простуда и грипп                      943 non-null    float64\n",
      " 29  Борьба с вредными привычками          943 non-null    float64\n",
      " 30  Витамины и обмен веществ              943 non-null    float64\n",
      " 31  Лечебная и селективная косметика      943 non-null    float64\n",
      " 32  Масс-маркет                           943 non-null    float64\n",
      " 33  Товары для матери и ребенка           943 non-null    float64\n",
      " 34  Уход за больными                      943 non-null    float64\n",
      " 35  Медицинская техника                   943 non-null    float64\n",
      " 36  Мед. изделия                          943 non-null    float64\n",
      " 37  Продукты питания                      943 non-null    float64\n",
      " 38  Сердце и кровь_общ                    943 non-null    float64\n",
      " 39  Эндокринология_общ                    943 non-null    float64\n",
      " 40  Онкология и иммунология_общ           943 non-null    float64\n",
      " 41  Дыхательная система_общ               943 non-null    float64\n",
      " 42  Лечений инфекций_общ                  943 non-null    float64\n",
      " 43  Костно-мышечная система_общ           943 non-null    float64\n",
      " 44  От варикоза_общ                       943 non-null    float64\n",
      " 45  Мочеполовая система_общ               943 non-null    float64\n",
      " 46  Гинекология_общ                       943 non-null    float64\n",
      " 47  Нервная система_общ                   943 non-null    float64\n",
      " 48  Пищеварительный тракт_общ             943 non-null    float64\n",
      " 49  От боли и воспаления_общ              943 non-null    float64\n",
      " 50  Дерматология_общ                      943 non-null    float64\n",
      " 51  Зрение и слух_общ                     943 non-null    float64\n",
      " 52  От аллергии_общ                       943 non-null    float64\n",
      " 53  Простуда и грипп_общ                  943 non-null    float64\n",
      " 54  Борьба с вредными привычками_общ      943 non-null    float64\n",
      " 55  Витамины и обмен веществ_общ          943 non-null    float64\n",
      " 56  Лечебная и селективная косметика_общ  943 non-null    float64\n",
      " 57  Масс-маркет_общ                       943 non-null    float64\n",
      " 58  Товары для матери и ребенка_общ       943 non-null    float64\n",
      " 59  Уход за больными_общ                  943 non-null    float64\n",
      " 60  Медицинская техника_общ               943 non-null    float64\n",
      " 61  Мед. изделия_общ                      943 non-null    float64\n",
      " 62  Продукты питания_общ                  943 non-null    float64\n",
      "dtypes: float64(56), int64(1), object(6)\n",
      "memory usage: 464.3+ KB\n"
     ]
    }
   ],
   "source": [
    "df.info()"
   ]
  },
  {
   "cell_type": "code",
   "execution_count": 5,
   "id": "f80c188a",
   "metadata": {},
   "outputs": [
    {
     "name": "stdout",
     "output_type": "stream",
     "text": [
      "<class 'pandas.core.frame.DataFrame'>\n",
      "RangeIndex: 943 entries, 0 to 942\n",
      "Data columns (total 65 columns):\n",
      " #   Column                                Non-Null Count  Dtype  \n",
      "---  ------                                --------------  -----  \n",
      " 0   TradePointCode                        943 non-null    object \n",
      " 1   STORE_LOCATION_LVL_NM1                943 non-null    object \n",
      " 2   STORE_LOCATION_NM                     943 non-null    object \n",
      " 3   BrandName                             943 non-null    object \n",
      " 4   Локация                               943 non-null    object \n",
      " 5   Выкладка                              943 non-null    object \n",
      " 6   Revenue                               943 non-null    float64\n",
      " 7   ChequeCount                           943 non-null    int64  \n",
      " 8   TradeSquare                           943 non-null    float64\n",
      " 9   mean_ch                               943 non-null    float64\n",
      " 10  high                                  943 non-null    float64\n",
      " 11  medium                                943 non-null    float64\n",
      " 12  low                                   943 non-null    float64\n",
      " 13  Сердце и кровь                        943 non-null    float64\n",
      " 14  Эндокринология                        943 non-null    float64\n",
      " 15  Онкология и иммунология               943 non-null    float64\n",
      " 16  Дыхательная система                   943 non-null    float64\n",
      " 17  Лечений инфекций                      943 non-null    float64\n",
      " 18  Костно-мышечная система               943 non-null    float64\n",
      " 19  От варикоза                           943 non-null    float64\n",
      " 20  Мочеполовая система                   943 non-null    float64\n",
      " 21  Гинекология                           943 non-null    float64\n",
      " 22  Нервная система                       943 non-null    float64\n",
      " 23  Пищеварительный тракт                 943 non-null    float64\n",
      " 24  От боли и воспаления                  943 non-null    float64\n",
      " 25  Дерматология                          943 non-null    float64\n",
      " 26  Зрение и слух                         943 non-null    float64\n",
      " 27  От аллергии                           943 non-null    float64\n",
      " 28  Простуда и грипп                      943 non-null    float64\n",
      " 29  Борьба с вредными привычками          943 non-null    float64\n",
      " 30  Витамины и обмен веществ              943 non-null    float64\n",
      " 31  Лечебная и селективная косметика      943 non-null    float64\n",
      " 32  Масс-маркет                           943 non-null    float64\n",
      " 33  Товары для матери и ребенка           943 non-null    float64\n",
      " 34  Уход за больными                      943 non-null    float64\n",
      " 35  Медицинская техника                   943 non-null    float64\n",
      " 36  Мед. изделия                          943 non-null    float64\n",
      " 37  Продукты питания                      943 non-null    float64\n",
      " 38  Сердце и кровь_общ                    943 non-null    float64\n",
      " 39  Эндокринология_общ                    943 non-null    float64\n",
      " 40  Онкология и иммунология_общ           943 non-null    float64\n",
      " 41  Дыхательная система_общ               943 non-null    float64\n",
      " 42  Лечений инфекций_общ                  943 non-null    float64\n",
      " 43  Костно-мышечная система_общ           943 non-null    float64\n",
      " 44  От варикоза_общ                       943 non-null    float64\n",
      " 45  Мочеполовая система_общ               943 non-null    float64\n",
      " 46  Гинекология_общ                       943 non-null    float64\n",
      " 47  Нервная система_общ                   943 non-null    float64\n",
      " 48  Пищеварительный тракт_общ             943 non-null    float64\n",
      " 49  От боли и воспаления_общ              943 non-null    float64\n",
      " 50  Дерматология_общ                      943 non-null    float64\n",
      " 51  Зрение и слух_общ                     943 non-null    float64\n",
      " 52  От аллергии_общ                       943 non-null    float64\n",
      " 53  Простуда и грипп_общ                  943 non-null    float64\n",
      " 54  Борьба с вредными привычками_общ      943 non-null    float64\n",
      " 55  Витамины и обмен веществ_общ          943 non-null    float64\n",
      " 56  Лечебная и селективная косметика_общ  943 non-null    float64\n",
      " 57  Масс-маркет_общ                       943 non-null    float64\n",
      " 58  Товары для матери и ребенка_общ       943 non-null    float64\n",
      " 59  Уход за больными_общ                  943 non-null    float64\n",
      " 60  Медицинская техника_общ               943 non-null    float64\n",
      " 61  Мед. изделия_общ                      943 non-null    float64\n",
      " 62  Продукты питания_общ                  943 non-null    float64\n",
      " 63  Локация_enc                           943 non-null    int8   \n",
      " 64  Выкладка_enc                          943 non-null    int8   \n",
      "dtypes: float64(56), int64(1), int8(2), object(6)\n",
      "memory usage: 466.1+ KB\n"
     ]
    }
   ],
   "source": [
    "df['Локация_enc'] = df['Локация'].astype('category')\n",
    "df['Выкладка_enc'] = df['Выкладка'].astype('category')\n",
    "\n",
    "for col in ['Локация_enc', 'Выкладка_enc']:\n",
    "     df[col] = df[col].cat.codes\n",
    "        \n",
    "df.info()"
   ]
  },
  {
   "cell_type": "code",
   "execution_count": 6,
   "id": "591696e4",
   "metadata": {},
   "outputs": [
    {
     "data": {
      "text/plain": [
       "<matplotlib.collections.PathCollection at 0x21dd4beb970>"
      ]
     },
     "execution_count": 6,
     "metadata": {},
     "output_type": "execute_result"
    },
    {
     "data": {
      "image/png": "[encoded data removed]",
      "text/plain": [
       "<Figure size 432x288 with 1 Axes>"
      ]
     },
     "metadata": {},
     "output_type": "display_data"
    }
   ],
   "source": [
    "plt.scatter(df['Revenue'],df['ChequeCount'])"
   ]
  },
  {
   "cell_type": "markdown",
   "id": "0a8ec409",
   "metadata": {},
   "source": [
    "### 1.Разделение магазинов по количеству чеков  с учётом категориальных данных - Локации.\n",
    "Кластеризация покажет, где ассортимент можно сделать шире (где высокое кол-во чеков), а где более узким."
   ]
  },
  {
   "cell_type": "code",
   "execution_count": 7,
   "id": "873627c9",
   "metadata": {},
   "outputs": [
    {
     "data": {
      "text/html": [
       "<div>\n",
       "<style scoped>\n",
       "    .dataframe tbody tr th:only-of-type {\n",
       "        vertical-align: middle;\n",
       "    }\n",
       "\n",
       "    .dataframe tbody tr th {\n",
       "        vertical-align: top;\n",
       "    }\n",
       "\n",
       "    .dataframe thead th {\n",
       "        text-align: right;\n",
       "    }\n",
       "</style>\n",
       "<table border=\"1\" class=\"dataframe\">\n",
       "  <thead>\n",
       "    <tr style=\"text-align: right;\">\n",
       "      <th></th>\n",
       "      <th>ChequeCount</th>\n",
       "      <th>Локация_enc</th>\n",
       "    </tr>\n",
       "  </thead>\n",
       "  <tbody>\n",
       "    <tr>\n",
       "      <th>0</th>\n",
       "      <td>135717</td>\n",
       "      <td>5</td>\n",
       "    </tr>\n",
       "    <tr>\n",
       "      <th>1</th>\n",
       "      <td>180023</td>\n",
       "      <td>5</td>\n",
       "    </tr>\n",
       "    <tr>\n",
       "      <th>2</th>\n",
       "      <td>107701</td>\n",
       "      <td>5</td>\n",
       "    </tr>\n",
       "    <tr>\n",
       "      <th>3</th>\n",
       "      <td>104647</td>\n",
       "      <td>5</td>\n",
       "    </tr>\n",
       "    <tr>\n",
       "      <th>4</th>\n",
       "      <td>178549</td>\n",
       "      <td>5</td>\n",
       "    </tr>\n",
       "  </tbody>\n",
       "</table>\n",
       "</div>"
      ],
      "text/plain": [
       "   ChequeCount  Локация_enc\n",
       "0       135717            5\n",
       "1       180023            5\n",
       "2       107701            5\n",
       "3       104647            5\n",
       "4       178549            5"
      ]
     },
     "execution_count": 7,
     "metadata": {},
     "output_type": "execute_result"
    }
   ],
   "source": [
    "cl_first = df.iloc[:,np.r_[7:8,63:64]]\n",
    "cl_first.head()"
   ]
  },
  {
   "cell_type": "markdown",
   "id": "eb7b6e89",
   "metadata": {},
   "source": [
    "Стандартизируем данные"
   ]
  },
  {
   "cell_type": "code",
   "execution_count": 8,
   "id": "d818e2f5",
   "metadata": {},
   "outputs": [
    {
     "data": {
      "text/plain": [
       "array([[ 0.06195993,  0.15718426],\n",
       "       [ 0.46623989,  0.15718426],\n",
       "       [-0.19367831,  0.15718426],\n",
       "       ...,\n",
       "       [-0.46683601,  0.15718426],\n",
       "       [-0.62987656,  0.15718426],\n",
       "       [-0.58289336,  1.18652285]])"
      ]
     },
     "execution_count": 8,
     "metadata": {},
     "output_type": "execute_result"
    }
   ],
   "source": [
    "x_scaled_1 = preprocessing.scale(cl_first)\n",
    "x_scaled_1"
   ]
  },
  {
   "cell_type": "markdown",
   "id": "c12b761a",
   "metadata": {},
   "source": [
    "Посчитаем сумму квадратов для каждого кластера (WCSS) для определения наилучшего количества кластеров."
   ]
  },
  {
   "cell_type": "code",
   "execution_count": 9,
   "id": "d5114de4",
   "metadata": {},
   "outputs": [
    {
     "name": "stderr",
     "output_type": "stream",
     "text": [
      "C:\\ProgramData\\Anaconda3\\lib\\site-packages\\sklearn\\cluster\\_kmeans.py:881: UserWarning: KMeans is known to have a memory leak on Windows with MKL, when there are less chunks than available threads. You can avoid it by setting the environment variable OMP_NUM_THREADS=4.\n",
      "  warnings.warn(\n"
     ]
    },
    {
     "data": {
      "text/plain": [
       "[1886.0000000000002,\n",
       " 1199.7350217448793,\n",
       " 581.397812270683,\n",
       " 438.0730256441636,\n",
       " 316.2596373285332,\n",
       " 218.88966462298924,\n",
       " 164.7035919892548,\n",
       " 139.38902161718676,\n",
       " 114.62280339684266]"
      ]
     },
     "execution_count": 9,
     "metadata": {},
     "output_type": "execute_result"
    }
   ],
   "source": [
    "wcss = []\n",
    "cl_num = 10\n",
    "for i in range (1,cl_num):\n",
    "    kmeans= KMeans(i)\n",
    "    kmeans.fit(x_scaled_1)\n",
    "    wcss_iter = kmeans.inertia_\n",
    "    wcss.append(wcss_iter)\n",
    "wcss"
   ]
  },
  {
   "cell_type": "code",
   "execution_count": 10,
   "id": "e1ae62b1",
   "metadata": {},
   "outputs": [
    {
     "data": {
      "text/plain": [
       "Text(0, 0.5, 'Within-cluster Sum of Squares')"
      ]
     },
     "execution_count": 10,
     "metadata": {},
     "output_type": "execute_result"
    },
    {
     "data": {
      "image/png": "[encoded data removed]",
      "text/plain": [
       "<Figure size 432x288 with 1 Axes>"
      ]
     },
     "metadata": {},
     "output_type": "display_data"
    }
   ],
   "source": [
    "number_clusters = range(1,cl_num)\n",
    "plt.plot(number_clusters, wcss)\n",
    "plt.title('The Elbow Method')\n",
    "plt.xlabel('Number of clusters')\n",
    "plt.ylabel('Within-cluster Sum of Squares')"
   ]
  },
  {
   "cell_type": "markdown",
   "id": "6b253671",
   "metadata": {},
   "source": [
    "Оптимальное количество кластеров - 3 (используя Elbow Method)"
   ]
  },
  {
   "cell_type": "code",
   "execution_count": 11,
   "id": "c2f57323",
   "metadata": {},
   "outputs": [
    {
     "data": {
      "text/plain": [
       "KMeans(n_clusters=3)"
      ]
     },
     "execution_count": 11,
     "metadata": {},
     "output_type": "execute_result"
    }
   ],
   "source": [
    "kmeans_scaled = KMeans(3)\n",
    "kmeans_scaled.fit(x_scaled_1)"
   ]
  },
  {
   "cell_type": "code",
   "execution_count": 12,
   "id": "a0aace5d",
   "metadata": {},
   "outputs": [
    {
     "name": "stderr",
     "output_type": "stream",
     "text": [
      "C:\\Users\\VADIM~1.SOK\\AppData\\Local\\Temp/ipykernel_17084/130630813.py:2: SettingWithCopyWarning: \n",
      "A value is trying to be set on a copy of a slice from a DataFrame.\n",
      "Try using .loc[row_indexer,col_indexer] = value instead\n",
      "\n",
      "See the caveats in the documentation: https://pandas.pydata.org/pandas-docs/stable/user_guide/indexing.html#returning-a-view-versus-a-copy\n",
      "  cl_first['cluster_first'] = kmeans_scaled.fit_predict(x_scaled_1)\n"
     ]
    }
   ],
   "source": [
    "clusters_scaled = cl_first.copy()\n",
    "cl_first['cluster_first'] = kmeans_scaled.fit_predict(x_scaled_1)"
   ]
  },
  {
   "cell_type": "code",
   "execution_count": 13,
   "id": "e634dac6",
   "metadata": {},
   "outputs": [
    {
     "data": {
      "text/html": [
       "<div>\n",
       "<style scoped>\n",
       "    .dataframe tbody tr th:only-of-type {\n",
       "        vertical-align: middle;\n",
       "    }\n",
       "\n",
       "    .dataframe tbody tr th {\n",
       "        vertical-align: top;\n",
       "    }\n",
       "\n",
       "    .dataframe thead th {\n",
       "        text-align: right;\n",
       "    }\n",
       "</style>\n",
       "<table border=\"1\" class=\"dataframe\">\n",
       "  <thead>\n",
       "    <tr style=\"text-align: right;\">\n",
       "      <th></th>\n",
       "      <th>TradePointCode</th>\n",
       "      <th>Revenue</th>\n",
       "      <th>ChequeCount</th>\n",
       "      <th>Локация_enc</th>\n",
       "      <th>cluster_first</th>\n",
       "    </tr>\n",
       "  </thead>\n",
       "  <tbody>\n",
       "    <tr>\n",
       "      <th>0</th>\n",
       "      <td>А00927</td>\n",
       "      <td>4.187031e+07</td>\n",
       "      <td>135717</td>\n",
       "      <td>5</td>\n",
       "      <td>0</td>\n",
       "    </tr>\n",
       "    <tr>\n",
       "      <th>1</th>\n",
       "      <td>А02072</td>\n",
       "      <td>4.892518e+07</td>\n",
       "      <td>180023</td>\n",
       "      <td>5</td>\n",
       "      <td>0</td>\n",
       "    </tr>\n",
       "    <tr>\n",
       "      <th>2</th>\n",
       "      <td>А02630</td>\n",
       "      <td>4.275123e+07</td>\n",
       "      <td>107701</td>\n",
       "      <td>5</td>\n",
       "      <td>0</td>\n",
       "    </tr>\n",
       "    <tr>\n",
       "      <th>3</th>\n",
       "      <td>А02632</td>\n",
       "      <td>4.634328e+07</td>\n",
       "      <td>104647</td>\n",
       "      <td>5</td>\n",
       "      <td>0</td>\n",
       "    </tr>\n",
       "    <tr>\n",
       "      <th>4</th>\n",
       "      <td>А00899</td>\n",
       "      <td>6.355079e+07</td>\n",
       "      <td>178549</td>\n",
       "      <td>5</td>\n",
       "      <td>0</td>\n",
       "    </tr>\n",
       "  </tbody>\n",
       "</table>\n",
       "</div>"
      ],
      "text/plain": [
       "  TradePointCode       Revenue  ChequeCount  Локация_enc  cluster_first\n",
       "0         А00927  4.187031e+07       135717            5              0\n",
       "1         А02072  4.892518e+07       180023            5              0\n",
       "2         А02630  4.275123e+07       107701            5              0\n",
       "3         А02632  4.634328e+07       104647            5              0\n",
       "4         А00899  6.355079e+07       178549            5              0"
      ]
     },
     "execution_count": 13,
     "metadata": {},
     "output_type": "execute_result"
    }
   ],
   "source": [
    "df = pd.concat([df, cl_first['cluster_first']], axis = 1)\n",
    "df[['TradePointCode','Revenue','ChequeCount','Локация_enc','cluster_first']].head()"
   ]
  },
  {
   "cell_type": "code",
   "execution_count": 14,
   "id": "68dd4533",
   "metadata": {},
   "outputs": [
    {
     "data": {
      "image/png": "[encoded data removed]",
      "text/plain": [
       "<Figure size 640x640 with 1 Axes>"
      ]
     },
     "metadata": {},
     "output_type": "display_data"
    }
   ],
   "source": [
    "#visualizing the clusters\n",
    "plt.figure(figsize=(8, 8), dpi=80)\n",
    "plt.scatter(df.loc[df['cluster_first'] == 0, 'Локация'], df.loc[df['cluster_first'] == 0, 'ChequeCount'], \n",
    "            s = 100,c = 'red',label='Cluster1')\n",
    "plt.scatter(df.loc[df['cluster_first'] == 1, 'Локация'], df.loc[df['cluster_first'] == 1, 'ChequeCount'], \n",
    "            s = 100,c = 'blue',label='Cluster2')\n",
    "plt.scatter(df.loc[df['cluster_first'] == 2, 'Локация'], df.loc[df['cluster_first'] == 2, 'ChequeCount'], \n",
    "            s = 100,c = 'green',label='Cluster3')\n",
    "\n",
    "plt.title('Clusters of the customers')\n",
    "plt.xlabel('Локация')\n",
    "plt.ylabel('Сумма чеков')\n",
    "plt.legend()\n",
    "plt.show()"
   ]
  },
  {
   "cell_type": "code",
   "execution_count": 15,
   "id": "df10e24e",
   "metadata": {},
   "outputs": [
    {
     "name": "stdout",
     "output_type": "stream",
     "text": [
      "721\n",
      "157\n",
      "65\n"
     ]
    }
   ],
   "source": [
    "cl_second_1 = df[df['cluster_first'] == 0]\n",
    "cl_second_2 = df[df['cluster_first'] == 1]\n",
    "cl_second_3 = df[df['cluster_first'] == 2]\n",
    "        \n",
    "print(len(cl_second_1))\n",
    "print(len(cl_second_2))\n",
    "print(len(cl_second_3))"
   ]
  },
  {
   "cell_type": "markdown",
   "id": "ea7a24e8",
   "metadata": {},
   "source": [
    "Кластер1 - аптеки формата Стрит и ТЦ. Имеют как правило самое большое количество покупателей.\n",
    "Кластер2 - аптеки формата Стрит, ТЦ, Продуктовик со стабильным средним кол-вом покупателей и максимальной представленностью в сети (721 торговая точка).\n",
    "Кластер3 - аптеки формата ЛПУ, Прикассовой зоны, UN и со статусом \"другое\" имеют как правило небольшое количество покупателей, также, представлены в наименьшем количестве.               "
   ]
  },
  {
   "cell_type": "markdown",
   "id": "db9abe4c",
   "metadata": {},
   "source": [
    "### 2. Разделение магазинов по ценовым категориям для дальнейшего определения доли товаров с высокими/средними/низкими ценами и своей ценовой политикой.\n",
    "Средняя стоимость чека и доли товаров  верхней ценовой категории коррелируют на 88 %, так как стоимость чека это уже факт, а доли товаров могут меняться, для определения аптек в 3 кластера с преимущественно высокой, средней и низкой ценовой категориями, для кластеризации каждого из 3х рассчитанных ранее кластеров, возьмём столбец 'mean_ch' - средняя стоимость чека и столбец 'Revenue'."
   ]
  },
  {
   "cell_type": "markdown",
   "id": "8c4ce981",
   "metadata": {},
   "source": [
    "#### Разделим df на 3 части в соответствии с рассчитанными кластерами и определим необходимые столбцы для 2го этапа кластеризации по ценовым категориям."
   ]
  },
  {
   "cell_type": "code",
   "execution_count": 16,
   "id": "3e5b81a4",
   "metadata": {},
   "outputs": [],
   "source": [
    "cl_second_1 = cl_second_1.iloc[:,np.r_[6:7,9]]\n",
    "cl_second_2 = cl_second_2.iloc[:,np.r_[6:7,9]]\n",
    "cl_second_3 = cl_second_3.iloc[:,np.r_[6:7,9]]"
   ]
  },
  {
   "cell_type": "code",
   "execution_count": 17,
   "id": "d10715a5",
   "metadata": {},
   "outputs": [
    {
     "data": {
      "text/html": [
       "<div>\n",
       "<style scoped>\n",
       "    .dataframe tbody tr th:only-of-type {\n",
       "        vertical-align: middle;\n",
       "    }\n",
       "\n",
       "    .dataframe tbody tr th {\n",
       "        vertical-align: top;\n",
       "    }\n",
       "\n",
       "    .dataframe thead th {\n",
       "        text-align: right;\n",
       "    }\n",
       "</style>\n",
       "<table border=\"1\" class=\"dataframe\">\n",
       "  <thead>\n",
       "    <tr style=\"text-align: right;\">\n",
       "      <th></th>\n",
       "      <th>Revenue</th>\n",
       "      <th>mean_ch</th>\n",
       "    </tr>\n",
       "  </thead>\n",
       "  <tbody>\n",
       "    <tr>\n",
       "      <th>0</th>\n",
       "      <td>4.187031e+07</td>\n",
       "      <td>308.511909</td>\n",
       "    </tr>\n",
       "    <tr>\n",
       "      <th>1</th>\n",
       "      <td>4.892518e+07</td>\n",
       "      <td>271.771820</td>\n",
       "    </tr>\n",
       "    <tr>\n",
       "      <th>2</th>\n",
       "      <td>4.275123e+07</td>\n",
       "      <td>396.943634</td>\n",
       "    </tr>\n",
       "    <tr>\n",
       "      <th>3</th>\n",
       "      <td>4.634328e+07</td>\n",
       "      <td>442.853368</td>\n",
       "    </tr>\n",
       "    <tr>\n",
       "      <th>4</th>\n",
       "      <td>6.355079e+07</td>\n",
       "      <td>355.929102</td>\n",
       "    </tr>\n",
       "  </tbody>\n",
       "</table>\n",
       "</div>"
      ],
      "text/plain": [
       "        Revenue     mean_ch\n",
       "0  4.187031e+07  308.511909\n",
       "1  4.892518e+07  271.771820\n",
       "2  4.275123e+07  396.943634\n",
       "3  4.634328e+07  442.853368\n",
       "4  6.355079e+07  355.929102"
      ]
     },
     "execution_count": 17,
     "metadata": {},
     "output_type": "execute_result"
    }
   ],
   "source": [
    "cl_second_1.head()"
   ]
  },
  {
   "cell_type": "code",
   "execution_count": 18,
   "id": "88c67654",
   "metadata": {},
   "outputs": [
    {
     "data": {
      "image/png": "[encoded data removed]",
      "text/plain": [
       "<Figure size 432x288 with 1 Axes>"
      ]
     },
     "metadata": {},
     "output_type": "display_data"
    }
   ],
   "source": [
    "import scipy.cluster.hierarchy as sch\n",
    "dendrogram = sch.dendrogram(sch.linkage(cl_second_1, method = 'ward'))\n",
    "plt.title('Dendrogram')\n",
    "plt.xlabel('Drug_stores')\n",
    "plt.ylabel('Euclidean Distance')\n",
    "plt.show()"
   ]
  },
  {
   "cell_type": "code",
   "execution_count": 19,
   "id": "6a663292",
   "metadata": {},
   "outputs": [
    {
     "data": {
      "image/png": "[encoded data removed]",
      "text/plain": [
       "<Figure size 432x288 with 1 Axes>"
      ]
     },
     "metadata": {},
     "output_type": "display_data"
    }
   ],
   "source": [
    "import scipy.cluster.hierarchy as sch\n",
    "dendrogram = sch.dendrogram(sch.linkage(cl_second_2, method = 'ward'))\n",
    "plt.title('Dendrogram')\n",
    "plt.xlabel('Drug_stores')\n",
    "plt.ylabel('Euclidean Distance')\n",
    "plt.show()"
   ]
  },
  {
   "cell_type": "code",
   "execution_count": 20,
   "id": "cd5044f8",
   "metadata": {},
   "outputs": [
    {
     "data": {
      "image/png": "[encoded data removed]",
      "text/plain": [
       "<Figure size 432x288 with 1 Axes>"
      ]
     },
     "metadata": {},
     "output_type": "display_data"
    }
   ],
   "source": [
    "import scipy.cluster.hierarchy as sch\n",
    "dendrogram = sch.dendrogram(sch.linkage(cl_second_3, method = 'ward'))\n",
    "plt.title('Dendrogram')\n",
    "plt.xlabel('Drug_stores')\n",
    "plt.ylabel('Euclidean Distance')\n",
    "plt.show()"
   ]
  },
  {
   "cell_type": "markdown",
   "id": "fcbeff4f",
   "metadata": {},
   "source": [
    "## Для всех 3х кластеров установим разделение на 3 типа ценовых политик."
   ]
  },
  {
   "cell_type": "markdown",
   "id": "51694ae4",
   "metadata": {},
   "source": [
    "Далее используем Hierarchical Agglomerative Clustering для определения ценовых кластеров для магазинов."
   ]
  },
  {
   "cell_type": "code",
   "execution_count": 23,
   "id": "505fe120",
   "metadata": {},
   "outputs": [],
   "source": [
    "from sklearn.cluster import AgglomerativeClustering\n",
    "hc = AgglomerativeClustering(n_clusters = 3, affinity = \"euclidean\", linkage = 'ward')\n",
    "\n",
    "hc_pred1 = hc.fit_predict(cl_second_1)\n",
    "hc_pred2 = hc.fit_predict(cl_second_2)\n",
    "hc_pred3 = hc.fit_predict(cl_second_3)"
   ]
  },
  {
   "cell_type": "code",
   "execution_count": 24,
   "id": "e006b159",
   "metadata": {},
   "outputs": [],
   "source": [
    "hc_pred1 = pd.DataFrame(hc_pred1)\n",
    "hc_pred2 = pd.DataFrame(hc_pred2)\n",
    "hc_pred3 = pd.DataFrame(hc_pred3)"
   ]
  },
  {
   "cell_type": "code",
   "execution_count": 25,
   "id": "35a2917f",
   "metadata": {},
   "outputs": [],
   "source": [
    "df2 = pd.concat([hc_pred1, hc_pred2, hc_pred3])\n",
    "df2.columns = ['cluster_second']\n",
    "df2.reset_index(inplace=True)\n",
    "df = pd.concat([df, df2['cluster_second']], axis = 1)"
   ]
  },
  {
   "cell_type": "code",
   "execution_count": 26,
   "id": "79a26122",
   "metadata": {},
   "outputs": [
    {
     "data": {
      "text/html": [
       "<div>\n",
       "<style scoped>\n",
       "    .dataframe tbody tr th:only-of-type {\n",
       "        vertical-align: middle;\n",
       "    }\n",
       "\n",
       "    .dataframe tbody tr th {\n",
       "        vertical-align: top;\n",
       "    }\n",
       "\n",
       "    .dataframe thead th {\n",
       "        text-align: right;\n",
       "    }\n",
       "</style>\n",
       "<table border=\"1\" class=\"dataframe\">\n",
       "  <thead>\n",
       "    <tr style=\"text-align: right;\">\n",
       "      <th></th>\n",
       "      <th>TradePointCode</th>\n",
       "      <th>STORE_LOCATION_LVL_NM1</th>\n",
       "      <th>STORE_LOCATION_NM</th>\n",
       "      <th>BrandName</th>\n",
       "      <th>Локация</th>\n",
       "      <th>Выкладка</th>\n",
       "      <th>Revenue</th>\n",
       "      <th>ChequeCount</th>\n",
       "      <th>TradeSquare</th>\n",
       "      <th>mean_ch</th>\n",
       "      <th>...</th>\n",
       "      <th>Товары для матери и ребенка_общ</th>\n",
       "      <th>Уход за больными_общ</th>\n",
       "      <th>Медицинская техника_общ</th>\n",
       "      <th>Мед. изделия_общ</th>\n",
       "      <th>Продукты питания_общ</th>\n",
       "      <th>Локация_enc</th>\n",
       "      <th>Выкладка_enc</th>\n",
       "      <th>cluster_first</th>\n",
       "      <th>cluster_second</th>\n",
       "      <th>cl_final</th>\n",
       "    </tr>\n",
       "  </thead>\n",
       "  <tbody>\n",
       "    <tr>\n",
       "      <th>0</th>\n",
       "      <td>А00927</td>\n",
       "      <td>БЕ Центр</td>\n",
       "      <td>А00927 Орел Наугорское шоссе 88</td>\n",
       "      <td>Аптека.ру</td>\n",
       "      <td>Стрит</td>\n",
       "      <td>ОФТ</td>\n",
       "      <td>4.187031e+07</td>\n",
       "      <td>135717</td>\n",
       "      <td>98.00</td>\n",
       "      <td>308.511909</td>\n",
       "      <td>...</td>\n",
       "      <td>0.001213</td>\n",
       "      <td>0.001116</td>\n",
       "      <td>0.001018</td>\n",
       "      <td>0.000959</td>\n",
       "      <td>0.001113</td>\n",
       "      <td>5</td>\n",
       "      <td>1</td>\n",
       "      <td>0</td>\n",
       "      <td>0</td>\n",
       "      <td>0-0</td>\n",
       "    </tr>\n",
       "    <tr>\n",
       "      <th>1</th>\n",
       "      <td>А02072</td>\n",
       "      <td>БЕ Сибирь</td>\n",
       "      <td>А02072 Новосибирск Дзержинского 30 Аптека</td>\n",
       "      <td>Аптека.ру</td>\n",
       "      <td>Стрит</td>\n",
       "      <td>ЗФТ</td>\n",
       "      <td>4.892518e+07</td>\n",
       "      <td>180023</td>\n",
       "      <td>53.00</td>\n",
       "      <td>271.771820</td>\n",
       "      <td>...</td>\n",
       "      <td>0.001403</td>\n",
       "      <td>0.001193</td>\n",
       "      <td>0.001079</td>\n",
       "      <td>0.001492</td>\n",
       "      <td>0.001426</td>\n",
       "      <td>5</td>\n",
       "      <td>0</td>\n",
       "      <td>0</td>\n",
       "      <td>0</td>\n",
       "      <td>0-0</td>\n",
       "    </tr>\n",
       "    <tr>\n",
       "      <th>2</th>\n",
       "      <td>А02630</td>\n",
       "      <td>БЕ Москва</td>\n",
       "      <td>А02630 Москва ул. Островитянова 18</td>\n",
       "      <td>МосАптека</td>\n",
       "      <td>Стрит</td>\n",
       "      <td>ЗФТ</td>\n",
       "      <td>4.275123e+07</td>\n",
       "      <td>107701</td>\n",
       "      <td>45.54</td>\n",
       "      <td>396.943634</td>\n",
       "      <td>...</td>\n",
       "      <td>0.000836</td>\n",
       "      <td>0.001603</td>\n",
       "      <td>0.000902</td>\n",
       "      <td>0.001011</td>\n",
       "      <td>0.000895</td>\n",
       "      <td>5</td>\n",
       "      <td>0</td>\n",
       "      <td>0</td>\n",
       "      <td>0</td>\n",
       "      <td>0-0</td>\n",
       "    </tr>\n",
       "    <tr>\n",
       "      <th>3</th>\n",
       "      <td>А02632</td>\n",
       "      <td>БЕ Москва</td>\n",
       "      <td>А02632 Москва ул. Нагатинская 11 корп 1</td>\n",
       "      <td>МосАптека</td>\n",
       "      <td>Стрит</td>\n",
       "      <td>ЗФТ</td>\n",
       "      <td>4.634328e+07</td>\n",
       "      <td>104647</td>\n",
       "      <td>60.35</td>\n",
       "      <td>442.853368</td>\n",
       "      <td>...</td>\n",
       "      <td>0.001272</td>\n",
       "      <td>0.001024</td>\n",
       "      <td>0.000871</td>\n",
       "      <td>0.000925</td>\n",
       "      <td>0.000573</td>\n",
       "      <td>5</td>\n",
       "      <td>0</td>\n",
       "      <td>0</td>\n",
       "      <td>0</td>\n",
       "      <td>0-0</td>\n",
       "    </tr>\n",
       "    <tr>\n",
       "      <th>4</th>\n",
       "      <td>А00899</td>\n",
       "      <td>БЕ Центр</td>\n",
       "      <td>А00899 Орел Октябрьская 16/18</td>\n",
       "      <td>Озерки</td>\n",
       "      <td>Стрит</td>\n",
       "      <td>ЗФТ</td>\n",
       "      <td>6.355079e+07</td>\n",
       "      <td>178549</td>\n",
       "      <td>63.40</td>\n",
       "      <td>355.929102</td>\n",
       "      <td>...</td>\n",
       "      <td>0.002059</td>\n",
       "      <td>0.000966</td>\n",
       "      <td>0.001241</td>\n",
       "      <td>0.001498</td>\n",
       "      <td>0.000962</td>\n",
       "      <td>5</td>\n",
       "      <td>0</td>\n",
       "      <td>0</td>\n",
       "      <td>0</td>\n",
       "      <td>0-0</td>\n",
       "    </tr>\n",
       "  </tbody>\n",
       "</table>\n",
       "<p>5 rows × 68 columns</p>\n",
       "</div>"
      ],
      "text/plain": [
       "  TradePointCode STORE_LOCATION_LVL_NM1  \\\n",
       "0         А00927               БЕ Центр   \n",
       "1         А02072              БЕ Сибирь   \n",
       "2         А02630              БЕ Москва   \n",
       "3         А02632              БЕ Москва   \n",
       "4         А00899               БЕ Центр   \n",
       "\n",
       "                           STORE_LOCATION_NM  BrandName Локация Выкладка  \\\n",
       "0            А00927 Орел Наугорское шоссе 88  Аптека.ру   Стрит      ОФТ   \n",
       "1  А02072 Новосибирск Дзержинского 30 Аптека  Аптека.ру   Стрит      ЗФТ   \n",
       "2         А02630 Москва ул. Островитянова 18  МосАптека   Стрит      ЗФТ   \n",
       "3    А02632 Москва ул. Нагатинская 11 корп 1  МосАптека   Стрит      ЗФТ   \n",
       "4              А00899 Орел Октябрьская 16/18     Озерки   Стрит      ЗФТ   \n",
       "\n",
       "        Revenue  ChequeCount  TradeSquare     mean_ch  ...  \\\n",
       "0  4.187031e+07       135717        98.00  308.511909  ...   \n",
       "1  4.892518e+07       180023        53.00  271.771820  ...   \n",
       "2  4.275123e+07       107701        45.54  396.943634  ...   \n",
       "3  4.634328e+07       104647        60.35  442.853368  ...   \n",
       "4  6.355079e+07       178549        63.40  355.929102  ...   \n",
       "\n",
       "   Товары для матери и ребенка_общ  Уход за больными_общ  \\\n",
       "0                         0.001213              0.001116   \n",
       "1                         0.001403              0.001193   \n",
       "2                         0.000836              0.001603   \n",
       "3                         0.001272              0.001024   \n",
       "4                         0.002059              0.000966   \n",
       "\n",
       "   Медицинская техника_общ  Мед. изделия_общ  Продукты питания_общ  \\\n",
       "0                 0.001018          0.000959              0.001113   \n",
       "1                 0.001079          0.001492              0.001426   \n",
       "2                 0.000902          0.001011              0.000895   \n",
       "3                 0.000871          0.000925              0.000573   \n",
       "4                 0.001241          0.001498              0.000962   \n",
       "\n",
       "   Локация_enc  Выкладка_enc  cluster_first  cluster_second  cl_final  \n",
       "0            5             1              0               0       0-0  \n",
       "1            5             0              0               0       0-0  \n",
       "2            5             0              0               0       0-0  \n",
       "3            5             0              0               0       0-0  \n",
       "4            5             0              0               0       0-0  \n",
       "\n",
       "[5 rows x 68 columns]"
      ]
     },
     "execution_count": 26,
     "metadata": {},
     "output_type": "execute_result"
    }
   ],
   "source": [
    "df['cl_final'] = df['cluster_first'].astype(str) + '-' + df['cluster_second'].astype(str)\n",
    "df.head()"
   ]
  },
  {
   "cell_type": "code",
   "execution_count": 27,
   "id": "cd3e7a6d",
   "metadata": {},
   "outputs": [
    {
     "data": {
      "text/html": [
       "<div>\n",
       "<style scoped>\n",
       "    .dataframe tbody tr th:only-of-type {\n",
       "        vertical-align: middle;\n",
       "    }\n",
       "\n",
       "    .dataframe tbody tr th {\n",
       "        vertical-align: top;\n",
       "    }\n",
       "\n",
       "    .dataframe thead th {\n",
       "        text-align: right;\n",
       "    }\n",
       "</style>\n",
       "<table border=\"1\" class=\"dataframe\">\n",
       "  <thead>\n",
       "    <tr style=\"text-align: right;\">\n",
       "      <th></th>\n",
       "      <th>TradePointCode</th>\n",
       "      <th>cl_final</th>\n",
       "    </tr>\n",
       "  </thead>\n",
       "  <tbody>\n",
       "    <tr>\n",
       "      <th>0</th>\n",
       "      <td>А00927</td>\n",
       "      <td>0-0</td>\n",
       "    </tr>\n",
       "    <tr>\n",
       "      <th>1</th>\n",
       "      <td>А02072</td>\n",
       "      <td>0-0</td>\n",
       "    </tr>\n",
       "    <tr>\n",
       "      <th>2</th>\n",
       "      <td>А02630</td>\n",
       "      <td>0-0</td>\n",
       "    </tr>\n",
       "    <tr>\n",
       "      <th>3</th>\n",
       "      <td>А02632</td>\n",
       "      <td>0-0</td>\n",
       "    </tr>\n",
       "    <tr>\n",
       "      <th>4</th>\n",
       "      <td>А00899</td>\n",
       "      <td>0-0</td>\n",
       "    </tr>\n",
       "  </tbody>\n",
       "</table>\n",
       "</div>"
      ],
      "text/plain": [
       "  TradePointCode cl_final\n",
       "0         А00927      0-0\n",
       "1         А02072      0-0\n",
       "2         А02630      0-0\n",
       "3         А02632      0-0\n",
       "4         А00899      0-0"
      ]
     },
     "execution_count": 27,
     "metadata": {},
     "output_type": "execute_result"
    }
   ],
   "source": [
    "df_final = df[['TradePointCode','cl_final']]\n",
    "df_final.head()"
   ]
  },
  {
   "cell_type": "code",
   "execution_count": 28,
   "id": "b3db011f",
   "metadata": {},
   "outputs": [
    {
     "data": {
      "text/plain": [
       "array(['0-0', '0-1', '0-2', '1-0', '1-1', '1-2', '2-0', '2-1', '2-2'],\n",
       "      dtype=object)"
      ]
     },
     "execution_count": 28,
     "metadata": {},
     "output_type": "execute_result"
    }
   ],
   "source": [
    "df_final['cl_final'].sort_values().unique()"
   ]
  },
  {
   "cell_type": "markdown",
   "id": "cadf6608",
   "metadata": {},
   "source": [
    "Получили разделение всех магазинов на 3 основных кластера, учитывающих объём общего количества чеков и локацию, и разделение каждого из них на 3 вида кластеров со своей ценовой политикой."
   ]
  }
 ],
 "metadata": {
  "kernelspec": {
   "display_name": "Python 3 (ipykernel)",
   "language": "python",
   "name": "python3"
  },
  "language_info": {
   "codemirror_mode": {
    "name": "ipython",
    "version": 3
   },
   "file_extension": ".py",
   "mimetype": "text/x-python",
   "name": "python",
   "nbconvert_exporter": "python",
   "pygments_lexer": "ipython3",
   "version": "3.9.7"
  }
 },
 "nbformat": 4,
 "nbformat_minor": 5
}
